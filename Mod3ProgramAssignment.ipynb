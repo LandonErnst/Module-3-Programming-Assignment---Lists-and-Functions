{
 "cells": [
  {
   "cell_type": "markdown",
   "metadata": {},
   "source": [
    "# Module 3 Programming Assignment\n",
    "# Author: Landon Ernst\n",
    "# File Name: Mod3ProgramAssignment.ipynb"
   ]
  },
  {
   "cell_type": "markdown",
   "metadata": {},
   "source": [
    "# Module 3 Programming Assignment \n",
    "\n",
    "## Task 7.4: Create the list \"things\" with the included elements."
   ]
  },
  {
   "cell_type": "code",
   "execution_count": null,
   "metadata": {},
   "outputs": [],
   "source": [
    "# Creates a list called \"things\" with the three elements\n",
    "things = [\"mozzarella\", \"cinderella\", \"salmonella\"]"
   ]
  },
  {
   "cell_type": "markdown",
   "metadata": {},
   "source": [
    "# Module 3 Programming Assignment\n",
    "\n",
    "## 7.5: Capitalize the element in things that refers to a person and then print the list."
   ]
  },
  {
   "cell_type": "code",
   "execution_count": null,
   "metadata": {},
   "outputs": [
    {
     "name": "stdout",
     "output_type": "stream",
     "text": [
      "['mozzarella', 'Cinderella', 'salmonella']\n"
     ]
    }
   ],
   "source": [
    "# Capitalizes the first letter in \"cinderella\"\n",
    "things[1] = things[1].capitalize()\n",
    "\n",
    "# Prints the list\n",
    "print(things)"
   ]
  },
  {
   "cell_type": "markdown",
   "metadata": {},
   "source": [
    "# Module 3 Programming Assignment\n",
    "\n",
    "## 7.6: Make the cheesy element of things all uppercase then print the list."
   ]
  },
  {
   "cell_type": "code",
   "execution_count": null,
   "metadata": {},
   "outputs": [
    {
     "name": "stdout",
     "output_type": "stream",
     "text": [
      "['MOZZARELLA', 'Cinderella']\n"
     ]
    }
   ],
   "source": [
    "# Makes the cheesy element in the list all uppercase\n",
    "things[0] = things[0].upper()\n",
    "\n",
    "# Prints the changed list\n",
    "print(things)"
   ]
  },
  {
   "cell_type": "markdown",
   "metadata": {},
   "source": [
    "# Module 3 Programming Assignment\n",
    "\n",
    "## 7.7: Delete the disease element from things, and print the list."
   ]
  },
  {
   "cell_type": "code",
   "execution_count": null,
   "metadata": {},
   "outputs": [
    {
     "name": "stdout",
     "output_type": "stream",
     "text": [
      "['Mozzarella', 'Cinderella']\n"
     ]
    }
   ],
   "source": [
    "# Deletes the disease element from the list\n",
    "del things[2]\n",
    "\n",
    "# Prints the new list\n",
    "print(things)"
   ]
  },
  {
   "cell_type": "markdown",
   "metadata": {},
   "source": [
    "# # Module 3 Programming Assignment\n",
    "\n",
    "## 9.1: Define the function \"good()\" and have it return the following list.\n",
    "\n",
    "## [ 'Harry', 'Ron', 'Hermione', ]"
   ]
  },
  {
   "cell_type": "code",
   "execution_count": null,
   "metadata": {},
   "outputs": [
    {
     "name": "stdout",
     "output_type": "stream",
     "text": [
      "['Harry', 'Ron', 'Hermione']\n"
     ]
    }
   ],
   "source": [
    "# Define the good() function\n",
    "def good():\n",
    "    return [ 'Harry', 'Ron', 'Hermione', ]\n",
    "\n",
    "# Returns the list\n",
    "print(good())"
   ]
  },
  {
   "cell_type": "markdown",
   "metadata": {},
   "source": [
    "# Module 3 Programming Assignment\n",
    "\n",
    "## 9.2: Define the generator function \"get_odds()\" and have it return the odd numbers from range(10). Use a for loop to find and print the third value returned."
   ]
  },
  {
   "cell_type": "code",
   "execution_count": null,
   "metadata": {},
   "outputs": [],
   "source": [
    "# Define the generator function get_odds() \n",
    "def get_odds():\n",
    "    for number in range(10):\n",
    "        # Checks if the number is odd \n",
    "        if number % 2 != 0:\n",
    "            yield number\n",
    "\n",
    "# Loop to find and print the third odd number\n",
    "counter = 0\n",
    "for odd in get_odds():\n",
    "    counter += 1\n",
    "    if counter == 3:\n",
    "        print(odd)\n",
    "        break"
   ]
  }
 ],
 "metadata": {
  "kernelspec": {
   "display_name": "Python 3",
   "language": "python",
   "name": "python3"
  },
  "language_info": {
   "codemirror_mode": {
    "name": "ipython",
    "version": 3
   },
   "file_extension": ".py",
   "mimetype": "text/x-python",
   "name": "python",
   "nbconvert_exporter": "python",
   "pygments_lexer": "ipython3",
   "version": "3.9.6"
  }
 },
 "nbformat": 4,
 "nbformat_minor": 2
}
